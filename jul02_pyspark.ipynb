{
  "nbformat": 4,
  "nbformat_minor": 0,
  "metadata": {
    "colab": {
      "provenance": []
    },
    "kernelspec": {
      "name": "python3",
      "display_name": "Python 3"
    },
    "language_info": {
      "name": "python"
    }
  },
  "cells": [
    {
      "cell_type": "code",
      "execution_count": 49,
      "metadata": {
        "id": "Rr94gve6TH11"
      },
      "outputs": [],
      "source": [
        "from pyspark.sql import SparkSession\n",
        "from pyspark.sql.functions import *\n",
        "from pyspark.sql.types import DoubleType\n",
        "from pyspark.sql import Window\n"
      ]
    },
    {
      "cell_type": "code",
      "source": [
        "\n",
        "spark = SparkSession.builder.appName(\"CurrencyConversionUDF\").getOrCreate()\n",
        "\n",
        "\n",
        "df = spark.read.csv(\"/content/top_100_saas_companies_2025.csv\", header=True, inferSchema=True)\n",
        "\n",
        "\n",
        "def convert_currency(value):\n",
        "    if value is None:\n",
        "        return None\n",
        "    value = value.strip().replace(\"$\", \"\").replace(\",\", \"\").upper()\n",
        "    try:\n",
        "        if value.endswith(\"T\"):\n",
        "            return float(value[:-1]) * 1e12\n",
        "        elif value.endswith(\"B\"):\n",
        "            return float(value[:-1]) * 1e9\n",
        "        elif value.endswith(\"M\"):\n",
        "            return float(value[:-1]) * 1e6\n",
        "        elif value.endswith(\"K\"):\n",
        "            return float(value[:-1]) * 1e3\n",
        "        elif value.replace('.', '', 1).isdigit():\n",
        "            return float(value)\n",
        "        else:\n",
        "            return None\n",
        "    except:\n",
        "        return None\n",
        "\n",
        "convert_currency_udf = udf(convert_currency, DoubleType())\n",
        "\n",
        "\n",
        "cols_to_convert = [\"ARR\", \"Valuation\", \"Total Funding\"]\n",
        "for c in cols_to_convert:\n",
        "    df = df.withColumn(f\"{c}_Num\", convert_currency_udf(col(c)))\n",
        "\n",
        "df.select(\"Company Name\", \"Valuation\", \"Valuation_Num\",\n",
        "          \"ARR\", \"ARR_Num\",\n",
        "          \"Total Funding\", \"Total Funding_Num\").show(5)\n"
      ],
      "metadata": {
        "colab": {
          "base_uri": "https://localhost:8080/"
        },
        "id": "L5_F2pP3hIDI",
        "outputId": "57f2ee32-8c2f-4b97-c668-3a5d7eb5a861"
      },
      "execution_count": 50,
      "outputs": [
        {
          "output_type": "stream",
          "name": "stdout",
          "text": [
            "+------------+---------+-------------+------+-------+-------------+-------------------+\n",
            "|Company Name|Valuation|Valuation_Num|   ARR|ARR_Num|Total Funding|  Total Funding_Num|\n",
            "+------------+---------+-------------+------+-------+-------------+-------------------+\n",
            "|   Microsoft|      $3T|       3.0E12| $270B| 2.7E11|          $1B|              1.0E9|\n",
            "|  Salesforce|  $227.8B|     2.278E11|$37.9B|3.79E10|       $65.4M|6.540000000000001E7|\n",
            "|       Adobe|    $240B|       2.4E11|$19.4B|1.94E10|        $2.5M|          2500000.0|\n",
            "|      Oracle|    $350B|       3.5E11|$52.9B|5.29E10|          $2K|             2000.0|\n",
            "|         SAP|    $215B|      2.15E11|$32.5B|3.25E10|          N/A|               NULL|\n",
            "+------------+---------+-------------+------+-------+-------------+-------------------+\n",
            "only showing top 5 rows\n",
            "\n"
          ]
        }
      ]
    },
    {
      "cell_type": "code",
      "source": [
        "window_spec = Window.partitionBy('Industry').orderBy(col('Valuation_Num').desc())"
      ],
      "metadata": {
        "id": "TkASZXG_ghZE"
      },
      "execution_count": 51,
      "outputs": []
    },
    {
      "cell_type": "code",
      "source": [
        "df1 = df.withColumn('rank', rank().over(window_spec))\n",
        "df1.show(5)\n",
        "\n"
      ],
      "metadata": {
        "colab": {
          "base_uri": "https://localhost:8080/"
        },
        "id": "7f-g-R_ThSQN",
        "outputId": "7b1b4c03-8299-47ed-bf93-5c4a12abc24f"
      },
      "execution_count": 52,
      "outputs": [
        {
          "output_type": "stream",
          "name": "stdout",
          "text": [
            "+------------+------------+--------------------+--------------------+-------------+------+--------------+---------+--------------------+--------------------+---------+-------+-------------+-------------------+----+\n",
            "|Company Name|Founded Year|                  HQ|            Industry|Total Funding|   ARR|     Valuation|Employees|       Top Investors|             Product|G2 Rating|ARR_Num|Valuation_Num|  Total Funding_Num|rank|\n",
            "+------------+------------+--------------------+--------------------+-------------+------+--------------+---------+--------------------+--------------------+---------+-------+-------------+-------------------+----+\n",
            "| AppDynamics|        2008|San Francisco, CA...|                 APM|        $315M| $600M| $3.7B (Cisco)|    2,000|Lightspeed, Greylock|Application Perfo...|      4.3|  6.0E8|         NULL|             3.15E8|   1|\n",
            "|      Affirm|        2012|San Francisco, CA...|                BNPL|        $1.5B| $1.6B|          $12B|    2,500|Founders Fund, Li...|Buy Now Pay Later...|      4.1|  1.6E9|       1.2E10|              1.5E9|   1|\n",
            "|      Looker|        2012| Santa Cruz, CA, USA|Business Intellig...|      $281.5M| $150M|$2.6B (Google)|      800|CapitalG, Kleiner...|       Data Platform|      4.4|  1.5E8|         NULL|            2.815E8|   1|\n",
            "|    CircleCI|        2011|San Francisco, CA...|               CI/CD|        $315M| $100M|         $1.7B|      500|     IVP, DFJ Growth|      CI/CD Platform|      4.4|  1.0E8|        1.7E9|             3.15E8|   1|\n",
            "|  Salesforce|        1999|San Francisco, CA...|                 CRM|       $65.4M|$37.9B|       $227.8B|   75,000|Halsey Minor, Lar...|Sales Cloud, Serv...|      4.3|3.79E10|     2.278E11|6.540000000000001E7|   1|\n",
            "+------------+------------+--------------------+--------------------+-------------+------+--------------+---------+--------------------+--------------------+---------+-------+-------------+-------------------+----+\n",
            "only showing top 5 rows\n",
            "\n"
          ]
        }
      ]
    },
    {
      "cell_type": "code",
      "source": [
        "df2 = df1.filter(col('rank') < 3 ).show(5)"
      ],
      "metadata": {
        "colab": {
          "base_uri": "https://localhost:8080/"
        },
        "id": "b658c-VPi2eN",
        "outputId": "78ccec45-feb6-4d42-8109-14d85e1b33df"
      },
      "execution_count": 53,
      "outputs": [
        {
          "output_type": "stream",
          "name": "stdout",
          "text": [
            "+------------+------------+--------------------+--------------------+-------------+------+--------------+---------+--------------------+--------------------+---------+-------+-------------+-------------------+----+\n",
            "|Company Name|Founded Year|                  HQ|            Industry|Total Funding|   ARR|     Valuation|Employees|       Top Investors|             Product|G2 Rating|ARR_Num|Valuation_Num|  Total Funding_Num|rank|\n",
            "+------------+------------+--------------------+--------------------+-------------+------+--------------+---------+--------------------+--------------------+---------+-------+-------------+-------------------+----+\n",
            "| AppDynamics|        2008|San Francisco, CA...|                 APM|        $315M| $600M| $3.7B (Cisco)|    2,000|Lightspeed, Greylock|Application Perfo...|      4.3|  6.0E8|         NULL|             3.15E8|   1|\n",
            "|      Affirm|        2012|San Francisco, CA...|                BNPL|        $1.5B| $1.6B|          $12B|    2,500|Founders Fund, Li...|Buy Now Pay Later...|      4.1|  1.6E9|       1.2E10|              1.5E9|   1|\n",
            "|      Looker|        2012| Santa Cruz, CA, USA|Business Intellig...|      $281.5M| $150M|$2.6B (Google)|      800|CapitalG, Kleiner...|       Data Platform|      4.4|  1.5E8|         NULL|            2.815E8|   1|\n",
            "|    CircleCI|        2011|San Francisco, CA...|               CI/CD|        $315M| $100M|         $1.7B|      500|     IVP, DFJ Growth|      CI/CD Platform|      4.4|  1.0E8|        1.7E9|             3.15E8|   1|\n",
            "|  Salesforce|        1999|San Francisco, CA...|                 CRM|       $65.4M|$37.9B|       $227.8B|   75,000|Halsey Minor, Lar...|Sales Cloud, Serv...|      4.3|3.79E10|     2.278E11|6.540000000000001E7|   1|\n",
            "+------------+------------+--------------------+--------------------+-------------+------+--------------+---------+--------------------+--------------------+---------+-------+-------------+-------------------+----+\n",
            "only showing top 5 rows\n",
            "\n"
          ]
        }
      ]
    },
    {
      "cell_type": "code",
      "source": [
        "window_spec1 = Window.partitionBy('Industry').orderBy(col('ARR_Num').desc())\n",
        "df3 = df.withColumn('prev_arr', lag(col('ARR_Num')).over(window_spec1))\n",
        "\n"
      ],
      "metadata": {
        "id": "sSz9zoAsld4V"
      },
      "execution_count": 58,
      "outputs": []
    },
    {
      "cell_type": "code",
      "source": [
        "df3 = df3.withColumn(\"ARR_Difference\", round(col(\"prev_arr\") - col(\"ARR_Num\"), 2))\n",
        "df3 = df3.filter((col(\"ARR_Difference\").isNotNull()) & (col('ARR_Difference') > 1_000_000_000))\n"
      ],
      "metadata": {
        "id": "i-eucN5en5jj"
      },
      "execution_count": 61,
      "outputs": []
    },
    {
      "cell_type": "code",
      "source": [
        "df3.show(5)"
      ],
      "metadata": {
        "colab": {
          "base_uri": "https://localhost:8080/"
        },
        "id": "OsYxLT6uoRfY",
        "outputId": "1cc00c22-ddaf-4e11-cbcc-f1229011d81e"
      },
      "execution_count": 63,
      "outputs": [
        {
          "output_type": "stream",
          "name": "stdout",
          "text": [
            "+------------+------------+--------------------+--------------+-------------+-----+---------+---------+--------------------+--------------------+---------+-------+-------------+-----------------+--------------------+--------------+\n",
            "|Company Name|Founded Year|                  HQ|      Industry|Total Funding|  ARR|Valuation|Employees|       Top Investors|             Product|G2 Rating|ARR_Num|Valuation_Num|Total Funding_Num|            prev_arr|ARR_Difference|\n",
            "+------------+------------+--------------------+--------------+-------------+-----+---------+---------+--------------------+--------------------+---------+-------+-------------+-----------------+--------------------+--------------+\n",
            "|    Netskope|        2012|Santa Clara, CA, USA|Cloud Security|        $1.4B|$500M|    $7.5B|    2,500| Sequoia, Lightspeed|       SASE Platform|      4.6|  5.0E8|        7.5E9|            1.4E9|               1.6E9|         1.1E9|\n",
            "|         Box|        2005|Redwood City, CA,...| Cloud Storage|      $562.4M|  $1B|    $3.5B|    2,800|  DFJ, NEA, Bessemer|Cloud Content Man...|      4.2|  1.0E9|        3.5E9|          5.624E8|               2.5E9|         1.5E9|\n",
            "| RingCentral|        2003|    Belmont, CA, USA|Communications|         $44M|$2.2B|      $5B|    3,600|Sequoia, Khosla, ...|Cloud Communications|      4.2|  2.2E9|        5.0E9|            4.4E7|4.0999999999999995E9|         1.9E9|\n",
            "| CrowdStrike|        2011|     Austin, TX, USA| Cybersecurity|        $481M|$3.1B|     $70B|    7,900|Warburg Pincus, A...|Endpoint Security...|      4.7|  3.1E9|       7.0E10|           4.81E8|               7.5E9|         4.4E9|\n",
            "|    Palantir|        2003|     Denver, CO, USA|Data Analytics|        $2.6B|$2.2B|     $52B|    3,500|Founders Fund, In...|Data Integration ...|      4.0|  2.2E9|       5.2E10|            2.6E9|               3.7E9|         1.5E9|\n",
            "+------------+------------+--------------------+--------------+-------------+-----+---------+---------+--------------------+--------------------+---------+-------+-------------+-----------------+--------------------+--------------+\n",
            "only showing top 5 rows\n",
            "\n"
          ]
        }
      ]
    }
  ]
}