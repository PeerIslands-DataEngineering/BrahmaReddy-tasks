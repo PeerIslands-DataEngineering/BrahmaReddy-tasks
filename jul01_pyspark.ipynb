{
  "nbformat": 4,
  "nbformat_minor": 0,
  "metadata": {
    "colab": {
      "provenance": []
    },
    "kernelspec": {
      "name": "python3",
      "display_name": "Python 3"
    },
    "language_info": {
      "name": "python"
    }
  },
  "cells": [
    {
      "cell_type": "code",
      "execution_count": 24,
      "metadata": {
        "id": "Rr94gve6TH11"
      },
      "outputs": [],
      "source": [
        "from pyspark.sql import SparkSession\n",
        "from pyspark.sql.functions import *"
      ]
    },
    {
      "cell_type": "code",
      "source": [
        "spark= SparkSession.builder.appName(\"pyspark_test\").getOrCreate()\n",
        "df = spark.read.csv(\"/content/top_100_saas_companies_2025.csv\",header=True , inferSchema=True)\n",
        "df.show(10)"
      ],
      "metadata": {
        "colab": {
          "base_uri": "https://localhost:8080/"
        },
        "id": "q28LItbKTdQc",
        "outputId": "c3d82156-9a61-4f27-e222-4a7ce4b2f09f"
      },
      "execution_count": 43,
      "outputs": [
        {
          "output_type": "stream",
          "name": "stdout",
          "text": [
            "+------------+------------+--------------------+--------------------+-------------+------+---------+---------+--------------------+--------------------+---------+\n",
            "|Company Name|Founded Year|                  HQ|            Industry|Total Funding|   ARR|Valuation|Employees|       Top Investors|             Product|G2 Rating|\n",
            "+------------+------------+--------------------+--------------------+-------------+------+---------+---------+--------------------+--------------------+---------+\n",
            "|   Microsoft|        1975|    Redmond, WA, USA| Enterprise Software|          $1B| $270B|      $3T|  221,000|Bill Gates, Paul ...|Azure, Office 365...|      4.4|\n",
            "|  Salesforce|        1999|San Francisco, CA...|                 CRM|       $65.4M|$37.9B|  $227.8B|   75,000|Halsey Minor, Lar...|Sales Cloud, Serv...|      4.3|\n",
            "|       Adobe|        1982|   San Jose, CA, USA|   Creative Software|        $2.5M|$19.4B|    $240B|   29,945|   Hambrecht & Quist|Creative Cloud, D...|      4.5|\n",
            "|      Oracle|        1977|     Austin, TX, USA|Database & Enterp...|          $2K|$52.9B|    $350B|  143,000|Larry Ellison, Bo...|Oracle Cloud, Net...|      4.0|\n",
            "|         SAP|        1972|   Walldorf, Germany| Enterprise Software|          N/A|$32.5B|    $215B|  107,415|Dietmar Hopp, Kla...|S/4HANA, SuccessF...|      4.1|\n",
            "|      Intuit|        1983|Mountain View, CA...|  Financial Software|        $273M|$14.4B|    $180B|   18,200|Sierra Ventures, ...|QuickBooks, TurboTax|      4.4|\n",
            "|  ServiceNow|        2004|Santa Clara, CA, USA|IT Service Manage...|       $82.5M| $8.9B|    $147B|   20,000|JMI Equity, Sequo...|IT Service Manage...|      4.4|\n",
            "|     Workday|        2005| Pleasanton, CA, USA|        HR & Finance|      $249.9M| $7.3B|     $65B|   18,800|Greylock Partners...|HCM, Financial Ma...|      4.2|\n",
            "|        Zoom|        2011|   San Jose, CA, USA|Video Communications|      $145.5M| $4.5B|     $85B|    7,388|Sequoia Capital, ...|Video Conferencin...|      4.5|\n",
            "|     Shopify|        2006|      Ottawa, Canada|          E-commerce|      $122.3M| $7.1B|     $95B|   11,600|Bessemer, FirstMa...| E-commerce Platform|      4.4|\n",
            "+------------+------------+--------------------+--------------------+-------------+------+---------+---------+--------------------+--------------------+---------+\n",
            "only showing top 10 rows\n",
            "\n"
          ]
        }
      ]
    },
    {
      "cell_type": "code",
      "source": [
        "df.printSchema()"
      ],
      "metadata": {
        "colab": {
          "base_uri": "https://localhost:8080/"
        },
        "id": "ls8iOl6JT8_O",
        "outputId": "d9288d2b-0f57-4200-abec-c45a9a13116e"
      },
      "execution_count": 44,
      "outputs": [
        {
          "output_type": "stream",
          "name": "stdout",
          "text": [
            "root\n",
            " |-- Company Name: string (nullable = true)\n",
            " |-- Founded Year: integer (nullable = true)\n",
            " |-- HQ: string (nullable = true)\n",
            " |-- Industry: string (nullable = true)\n",
            " |-- Total Funding: string (nullable = true)\n",
            " |-- ARR: string (nullable = true)\n",
            " |-- Valuation: string (nullable = true)\n",
            " |-- Employees: string (nullable = true)\n",
            " |-- Top Investors: string (nullable = true)\n",
            " |-- Product: string (nullable = true)\n",
            " |-- G2 Rating: double (nullable = true)\n",
            "\n"
          ]
        }
      ]
    },
    {
      "cell_type": "code",
      "source": [
        "df1= df.dropna(subset=['ARR','Valuation','G2 Rating'])"
      ],
      "metadata": {
        "id": "z-upm4DGY9-Y"
      },
      "execution_count": 45,
      "outputs": []
    },
    {
      "cell_type": "code",
      "source": [
        "df1 = df1.withColumn('G2 Rating', col('G2 Rating').cast(\"double\"))"
      ],
      "metadata": {
        "id": "qYt7vA-zaKsx"
      },
      "execution_count": 46,
      "outputs": []
    },
    {
      "cell_type": "code",
      "source": [
        "\n",
        "cols_to_convert = [\"ARR\", \"Valuation\", \"Total Funding\"]\n",
        "\n",
        "from pyspark.sql.functions import col, regexp_replace, when, trim, upper\n",
        "\n",
        "def convert_unit(col_name: str):\n",
        "\n",
        "    cleaned = upper(trim(regexp_replace(col(col_name), \"[$,]\", \"\")))\n",
        "\n",
        "    return (\n",
        "        when(cleaned.endswith(\"T\"), regexp_replace(cleaned, \"T\", \"\").cast(\"double\") * 1e12)\n",
        "        .when(cleaned.endswith(\"B\"), regexp_replace(cleaned, \"B\", \"\").cast(\"double\") * 1e9)\n",
        "        .when(cleaned.endswith(\"M\"), regexp_replace(cleaned, \"M\", \"\").cast(\"double\") * 1e6)\n",
        "        .when(cleaned.endswith(\"K\"), regexp_replace(cleaned, \"K\", \"\").cast(\"double\") * 1e3)\n",
        "        .when(cleaned.rlike(\"^[0-9.]+$\"), cleaned.cast(\"double\"))\n",
        "        .otherwise(None)\n",
        "    )\n",
        "\n",
        "for c in cols_to_convert:\n",
        "    df1 = df1.withColumn(c, convert_unit(c))\n",
        "\n",
        "df1.show(5)\n"
      ],
      "metadata": {
        "colab": {
          "base_uri": "https://localhost:8080/"
        },
        "id": "NQr_-jkgUcIw",
        "outputId": "71f02dfc-9cf3-424a-f1fd-972875cf9432"
      },
      "execution_count": 47,
      "outputs": [
        {
          "output_type": "stream",
          "name": "stdout",
          "text": [
            "+------------+------------+--------------------+--------------------+-------------------+-------+---------+---------+--------------------+--------------------+---------+\n",
            "|Company Name|Founded Year|                  HQ|            Industry|      Total Funding|    ARR|Valuation|Employees|       Top Investors|             Product|G2 Rating|\n",
            "+------------+------------+--------------------+--------------------+-------------------+-------+---------+---------+--------------------+--------------------+---------+\n",
            "|   Microsoft|        1975|    Redmond, WA, USA| Enterprise Software|              1.0E9| 2.7E11|   3.0E12|  221,000|Bill Gates, Paul ...|Azure, Office 365...|      4.4|\n",
            "|  Salesforce|        1999|San Francisco, CA...|                 CRM|6.540000000000001E7|3.79E10| 2.278E11|   75,000|Halsey Minor, Lar...|Sales Cloud, Serv...|      4.3|\n",
            "|       Adobe|        1982|   San Jose, CA, USA|   Creative Software|          2500000.0|1.94E10|   2.4E11|   29,945|   Hambrecht & Quist|Creative Cloud, D...|      4.5|\n",
            "|      Oracle|        1977|     Austin, TX, USA|Database & Enterp...|             2000.0|5.29E10|   3.5E11|  143,000|Larry Ellison, Bo...|Oracle Cloud, Net...|      4.0|\n",
            "|         SAP|        1972|   Walldorf, Germany| Enterprise Software|               NULL|3.25E10|  2.15E11|  107,415|Dietmar Hopp, Kla...|S/4HANA, SuccessF...|      4.1|\n",
            "+------------+------------+--------------------+--------------------+-------------------+-------+---------+---------+--------------------+--------------------+---------+\n",
            "only showing top 5 rows\n",
            "\n"
          ]
        }
      ]
    },
    {
      "cell_type": "code",
      "source": [
        "\n",
        "df2 = df1.filter((col('ARR')>1E8) | (col('Valuation')<5E8 )|(col('G2 Rating')>=4) | (col('Founded Year')>=2015))\n",
        "df2.show(5)"
      ],
      "metadata": {
        "colab": {
          "base_uri": "https://localhost:8080/"
        },
        "id": "jWj9bnkYfEDs",
        "outputId": "6bc1a214-7470-40e4-d537-718c9ed76b0d"
      },
      "execution_count": 39,
      "outputs": [
        {
          "output_type": "stream",
          "name": "stdout",
          "text": [
            "+------------+------------+--------------------+--------------------+-------------+-------+---------+---------+--------------------+--------------------+---------+\n",
            "|Company Name|Founded Year|                  HQ|            Industry|Total Funding|    ARR|Valuation|Employees|       Top Investors|             Product|G2 Rating|\n",
            "+------------+------------+--------------------+--------------------+-------------+-------+---------+---------+--------------------+--------------------+---------+\n",
            "|   Microsoft|        1975|    Redmond, WA, USA| Enterprise Software|          $1B| 2.7E11|   3.0E12|  221,000|Bill Gates, Paul ...|Azure, Office 365...|      4.4|\n",
            "|  Salesforce|        1999|San Francisco, CA...|                 CRM|       $65.4M|3.79E10| 2.278E11|   75,000|Halsey Minor, Lar...|Sales Cloud, Serv...|      4.3|\n",
            "|       Adobe|        1982|   San Jose, CA, USA|   Creative Software|        $2.5M|1.94E10|   2.4E11|   29,945|   Hambrecht & Quist|Creative Cloud, D...|      4.5|\n",
            "|      Oracle|        1977|     Austin, TX, USA|Database & Enterp...|          $2K|5.29E10|   3.5E11|  143,000|Larry Ellison, Bo...|Oracle Cloud, Net...|      4.0|\n",
            "|         SAP|        1972|   Walldorf, Germany| Enterprise Software|          N/A|3.25E10|  2.15E11|  107,415|Dietmar Hopp, Kla...|S/4HANA, SuccessF...|      4.1|\n",
            "+------------+------------+--------------------+--------------------+-------------+-------+---------+---------+--------------------+--------------------+---------+\n",
            "only showing top 5 rows\n",
            "\n"
          ]
        }
      ]
    },
    {
      "cell_type": "code",
      "source": [],
      "metadata": {
        "id": "c3V7vCfqr_Tq"
      },
      "execution_count": null,
      "outputs": []
    },
    {
      "cell_type": "code",
      "source": [
        "\n",
        "df3 = df2.groupBy('Industry').agg(count(\"*\").alias(\"Company Count\"),avg('ARR').alias('avg_arr'),avg('Valuation').alias('avg_valuation')).orderBy('avg_arr',ascending=False)\n",
        "df3.filter(col('Company Count')>1).show()"
      ],
      "metadata": {
        "colab": {
          "base_uri": "https://localhost:8080/"
        },
        "id": "L5_F2pP3hIDI",
        "outputId": "a853a710-344c-4942-dc03-898944e196ef"
      },
      "execution_count": 49,
      "outputs": [
        {
          "output_type": "stream",
          "name": "stdout",
          "text": [
            "+-------------------+-------------+---------+-------------+\n",
            "|           Industry|Company Count|  avg_arr|avg_valuation|\n",
            "+-------------------+-------------+---------+-------------+\n",
            "|Enterprise Software|            2|1.5125E11|    1.6075E12|\n",
            "|           Payments|            2| 1.685E10|       7.5E10|\n",
            "|      Cybersecurity|            2|    5.3E9|      8.25E10|\n",
            "|     Communications|            2|   3.15E9|        8.5E9|\n",
            "|     Data Analytics|            2|   2.95E9|       5.2E10|\n",
            "|      Cloud Storage|            2|   1.75E9|        6.0E9|\n",
            "|             Design|            2|    1.3E9|       4.0E10|\n",
            "|     Cloud Security|            2|   1.05E9|     1.875E10|\n",
            "|           Database|            2|    9.0E8|       1.4E10|\n",
            "|    Work Management|            3|   7.56E8|       9.75E9|\n",
            "|Customer Engagement|            2|   5.08E8|        5.4E9|\n",
            "|             DevOps|            2|  4.225E8|       6.85E9|\n",
            "|   Sales Engagement|            2|    2.0E8|       3.35E9|\n",
            "|  Product Analytics|            2|  1.665E8|      2.525E9|\n",
            "+-------------------+-------------+---------+-------------+\n",
            "\n"
          ]
        }
      ]
    }
  ]
}