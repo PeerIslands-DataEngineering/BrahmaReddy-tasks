{
 "cells": [
  {
   "cell_type": "code",
   "execution_count": 0,
   "metadata": {
    "application/vnd.databricks.v1+cell": {
     "cellMetadata": {
      "byteLimit": 2048000,
      "rowLimit": 10000
     },
     "inputWidgets": {},
     "nuid": "9ae99ced-2e1f-4ffc-a841-7c26ad5ae0b5",
     "showTitle": false,
     "tableResultSettingsMap": {},
     "title": ""
    }
   },
   "outputs": [],
   "source": [
    "from pyspark.sql.functions import * \n",
    "silver_df = spark.read.table('workspace.default.silver_table')\n"
   ]
  },
  {
   "cell_type": "code",
   "execution_count": 0,
   "metadata": {
    "application/vnd.databricks.v1+cell": {
     "cellMetadata": {
      "byteLimit": 2048000,
      "rowLimit": 10000
     },
     "inputWidgets": {},
     "nuid": "a72618d2-2beb-40f9-ad47-1fbec4768692",
     "showTitle": false,
     "tableResultSettingsMap": {},
     "title": ""
    }
   },
   "outputs": [
    {
     "output_type": "display_data",
     "data": {
      "text/html": [
       "<style scoped>\n",
       "  .table-result-container {\n",
       "    max-height: 300px;\n",
       "    overflow: auto;\n",
       "  }\n",
       "  table, th, td {\n",
       "    border: 1px solid black;\n",
       "    border-collapse: collapse;\n",
       "  }\n",
       "  th, td {\n",
       "    padding: 5px;\n",
       "  }\n",
       "  th {\n",
       "    text-align: left;\n",
       "  }\n",
       "</style><div class='table-result-container'><table class='table-result'><thead style='background-color: white'><tr><th>transaction_id</th><th>customer_id</th><th>transaction_date</th><th>amount</th><th>product_category</th><th>region</th></tr></thead><tbody><tr><td>T001</td><td>C1001</td><td>2023-01-15</td><td>150.75</td><td>electronics</td><td>US</td></tr><tr><td>T002</td><td>C1002</td><td>2023-01-16</td><td>0.0</td><td>clothing</td><td>UK</td></tr><tr><td>T003</td><td>C1001</td><td>2023-01-17</td><td>0.0</td><td>electronics</td><td>US</td></tr><tr><td>T004</td><td>C1003</td><td>2023-01-18</td><td>300.5</td><td>books</td><td>Unknown</td></tr><tr><td>T005</td><td>C1002</td><td>2023-01-18</td><td>75.25</td><td>clothing</td><td>UK</td></tr><tr><td>T006</td><td>C1004</td><td>2023-01-19</td><td>200.0</td><td>books</td><td>US</td></tr><tr><td>T007</td><td>C1001</td><td>2023-01-15</td><td>150.75</td><td>electronics</td><td>US</td></tr><tr><td>T008</td><td>C1005</td><td>2023-01-20</td><td>450.0</td><td>home appliances</td><td>US</td></tr><tr><td>T009</td><td>C1006</td><td>2023-01-21</td><td>89.99</td><td>electronics</td><td>UK</td></tr><tr><td>T010</td><td>C1003</td><td>2023-01-22</td><td>120.0</td><td>books</td><td>US</td></tr><tr><td>T011</td><td>C1007</td><td>2023-01-23</td><td>0.0</td><td>clothing</td><td>Unknown</td></tr><tr><td>T012</td><td>C1002</td><td>2023-01-24</td><td>65.3</td><td>clothing</td><td>UK</td></tr><tr><td>T013</td><td>C1008</td><td>2023-01-25</td><td>750.25</td><td>electronics</td><td>US</td></tr><tr><td>T014</td><td>C1004</td><td>2023-01-26</td><td>0.0</td><td>books</td><td>US</td></tr><tr><td>T015</td><td>C1009</td><td>2023-01-27</td><td>220.0</td><td>home appliances</td><td>UK</td></tr><tr><td>T016</td><td>C1010</td><td>2023-01-28</td><td>99.95</td><td>electronics</td><td>US</td></tr><tr><td>T017</td><td>C1001</td><td>2023-01-29</td><td>175.0</td><td>electronics</td><td>US</td></tr><tr><td>T018</td><td>C1002</td><td>2023-01-30</td><td>45.0</td><td>clothing</td><td>UK</td></tr><tr><td>T019</td><td>C1003</td><td>2023-01-31</td><td>280.75</td><td>books</td><td>US</td></tr><tr><td>T020</td><td>C1005</td><td>2023-02-01</td><td>600.0</td><td>home appliances</td><td>Unknown</td></tr><tr><td>T021</td><td>C1006</td><td>2023-02-02</td><td>0.0</td><td>electronics</td><td>UK</td></tr><tr><td>T022</td><td>C1007</td><td>2023-02-03</td><td>95.25</td><td>clothing</td><td>US</td></tr><tr><td>T023</td><td>C1008</td><td>2023-02-04</td><td>320.0</td><td>electronics</td><td>US</td></tr><tr><td>T024</td><td>C1009</td><td>2023-02-05</td><td>180.5</td><td>books</td><td>UK</td></tr><tr><td>T025</td><td>C1010</td><td>2023-02-06</td><td>50.0</td><td>clothing</td><td>US</td></tr><tr><td>T026</td><td>C1001</td><td>2023-02-07</td><td>200.75</td><td>electronics</td><td>US</td></tr><tr><td>T027</td><td>C1002</td><td>2023-02-08</td><td>0.0</td><td>clothing</td><td>UK</td></tr><tr><td>T028</td><td>C1003</td><td>2023-02-09</td><td>310.0</td><td>books</td><td>US</td></tr><tr><td>T029</td><td>C1004</td><td>2023-02-10</td><td>125.0</td><td>home appliances</td><td>US</td></tr><tr><td>T030</td><td>C1005</td><td>2023-02-11</td><td>400.0</td><td>electronics</td><td>UK</td></tr><tr><td>T031</td><td>C1006</td><td>2023-02-12</td><td>75.5</td><td>clothing</td><td>US</td></tr><tr><td>T032</td><td>C1007</td><td>2023-02-13</td><td>0.0</td><td>books</td><td>UK</td></tr><tr><td>T033</td><td>C1008</td><td>2023-02-14</td><td>550.0</td><td>electronics</td><td>US</td></tr><tr><td>T034</td><td>C1009</td><td>2023-02-15</td><td>90.25</td><td>clothing</td><td>UK</td></tr><tr><td>T035</td><td>C1010</td><td>2023-02-16</td><td>210.0</td><td>books</td><td>US</td></tr><tr><td>T036</td><td>C1001</td><td>2023-02-17</td><td>165.75</td><td>electronics</td><td>US</td></tr><tr><td>T037</td><td>C1002</td><td>2023-02-18</td><td>85.0</td><td>clothing</td><td>UK</td></tr><tr><td>T038</td><td>C1003</td><td>2023-02-19</td><td>270.0</td><td>books</td><td>Unknown</td></tr><tr><td>T039</td><td>C1004</td><td>2023-02-20</td><td>0.0</td><td>home appliances</td><td>US</td></tr><tr><td>T040</td><td>C1005</td><td>2023-02-21</td><td>380.0</td><td>electronics</td><td>UK</td></tr><tr><td>T041</td><td>C1006</td><td>2023-02-22</td><td>110.0</td><td>clothing</td><td>US</td></tr><tr><td>T042</td><td>C1007</td><td>2023-02-23</td><td>95.0</td><td>electronics</td><td>UK</td></tr><tr><td>T043</td><td>C1008</td><td>2023-02-24</td><td>420.0</td><td>books</td><td>US</td></tr><tr><td>T044</td><td>C1009</td><td>2023-02-25</td><td>0.0</td><td>home appliances</td><td>UK</td></tr><tr><td>T045</td><td>C1010</td><td>2023-02-26</td><td>150.0</td><td>clothing</td><td>US</td></tr><tr><td>T046</td><td>C1001</td><td>2023-02-27</td><td>190.0</td><td>electronics</td><td>US</td></tr><tr><td>T047</td><td>C1002</td><td>2023-02-28</td><td>70.25</td><td>clothing</td><td>UK</td></tr><tr><td>T048</td><td>C1003</td><td>2023-03-01</td><td>340.0</td><td>books</td><td>US</td></tr><tr><td>T049</td><td>C1004</td><td>2023-03-02</td><td>230.0</td><td>home appliances</td><td>US</td></tr><tr><td>T050</td><td>C1005</td><td>2023-03-03</td><td>500.0</td><td>electronics</td><td>UK</td></tr></tbody></table></div>"
      ]
     },
     "metadata": {
      "application/vnd.databricks.v1+output": {
       "addedWidgets": {},
       "aggData": [],
       "aggError": "",
       "aggOverflow": false,
       "aggSchema": [],
       "aggSeriesLimitReached": false,
       "aggType": "",
       "arguments": {},
       "columnCustomDisplayInfos": {},
       "data": [
        [
         "T001",
         "C1001",
         "2023-01-15",
         150.75,
         "electronics",
         "US"
        ],
        [
         "T002",
         "C1002",
         "2023-01-16",
         0.0,
         "clothing",
         "UK"
        ],
        [
         "T003",
         "C1001",
         "2023-01-17",
         0.0,
         "electronics",
         "US"
        ],
        [
         "T004",
         "C1003",
         "2023-01-18",
         300.5,
         "books",
         "Unknown"
        ],
        [
         "T005",
         "C1002",
         "2023-01-18",
         75.25,
         "clothing",
         "UK"
        ],
        [
         "T006",
         "C1004",
         "2023-01-19",
         200.0,
         "books",
         "US"
        ],
        [
         "T007",
         "C1001",
         "2023-01-15",
         150.75,
         "electronics",
         "US"
        ],
        [
         "T008",
         "C1005",
         "2023-01-20",
         450.0,
         "home appliances",
         "US"
        ],
        [
         "T009",
         "C1006",
         "2023-01-21",
         89.99,
         "electronics",
         "UK"
        ],
        [
         "T010",
         "C1003",
         "2023-01-22",
         120.0,
         "books",
         "US"
        ],
        [
         "T011",
         "C1007",
         "2023-01-23",
         0.0,
         "clothing",
         "Unknown"
        ],
        [
         "T012",
         "C1002",
         "2023-01-24",
         65.3,
         "clothing",
         "UK"
        ],
        [
         "T013",
         "C1008",
         "2023-01-25",
         750.25,
         "electronics",
         "US"
        ],
        [
         "T014",
         "C1004",
         "2023-01-26",
         0.0,
         "books",
         "US"
        ],
        [
         "T015",
         "C1009",
         "2023-01-27",
         220.0,
         "home appliances",
         "UK"
        ],
        [
         "T016",
         "C1010",
         "2023-01-28",
         99.95,
         "electronics",
         "US"
        ],
        [
         "T017",
         "C1001",
         "2023-01-29",
         175.0,
         "electronics",
         "US"
        ],
        [
         "T018",
         "C1002",
         "2023-01-30",
         45.0,
         "clothing",
         "UK"
        ],
        [
         "T019",
         "C1003",
         "2023-01-31",
         280.75,
         "books",
         "US"
        ],
        [
         "T020",
         "C1005",
         "2023-02-01",
         600.0,
         "home appliances",
         "Unknown"
        ],
        [
         "T021",
         "C1006",
         "2023-02-02",
         0.0,
         "electronics",
         "UK"
        ],
        [
         "T022",
         "C1007",
         "2023-02-03",
         95.25,
         "clothing",
         "US"
        ],
        [
         "T023",
         "C1008",
         "2023-02-04",
         320.0,
         "electronics",
         "US"
        ],
        [
         "T024",
         "C1009",
         "2023-02-05",
         180.5,
         "books",
         "UK"
        ],
        [
         "T025",
         "C1010",
         "2023-02-06",
         50.0,
         "clothing",
         "US"
        ],
        [
         "T026",
         "C1001",
         "2023-02-07",
         200.75,
         "electronics",
         "US"
        ],
        [
         "T027",
         "C1002",
         "2023-02-08",
         0.0,
         "clothing",
         "UK"
        ],
        [
         "T028",
         "C1003",
         "2023-02-09",
         310.0,
         "books",
         "US"
        ],
        [
         "T029",
         "C1004",
         "2023-02-10",
         125.0,
         "home appliances",
         "US"
        ],
        [
         "T030",
         "C1005",
         "2023-02-11",
         400.0,
         "electronics",
         "UK"
        ],
        [
         "T031",
         "C1006",
         "2023-02-12",
         75.5,
         "clothing",
         "US"
        ],
        [
         "T032",
         "C1007",
         "2023-02-13",
         0.0,
         "books",
         "UK"
        ],
        [
         "T033",
         "C1008",
         "2023-02-14",
         550.0,
         "electronics",
         "US"
        ],
        [
         "T034",
         "C1009",
         "2023-02-15",
         90.25,
         "clothing",
         "UK"
        ],
        [
         "T035",
         "C1010",
         "2023-02-16",
         210.0,
         "books",
         "US"
        ],
        [
         "T036",
         "C1001",
         "2023-02-17",
         165.75,
         "electronics",
         "US"
        ],
        [
         "T037",
         "C1002",
         "2023-02-18",
         85.0,
         "clothing",
         "UK"
        ],
        [
         "T038",
         "C1003",
         "2023-02-19",
         270.0,
         "books",
         "Unknown"
        ],
        [
         "T039",
         "C1004",
         "2023-02-20",
         0.0,
         "home appliances",
         "US"
        ],
        [
         "T040",
         "C1005",
         "2023-02-21",
         380.0,
         "electronics",
         "UK"
        ],
        [
         "T041",
         "C1006",
         "2023-02-22",
         110.0,
         "clothing",
         "US"
        ],
        [
         "T042",
         "C1007",
         "2023-02-23",
         95.0,
         "electronics",
         "UK"
        ],
        [
         "T043",
         "C1008",
         "2023-02-24",
         420.0,
         "books",
         "US"
        ],
        [
         "T044",
         "C1009",
         "2023-02-25",
         0.0,
         "home appliances",
         "UK"
        ],
        [
         "T045",
         "C1010",
         "2023-02-26",
         150.0,
         "clothing",
         "US"
        ],
        [
         "T046",
         "C1001",
         "2023-02-27",
         190.0,
         "electronics",
         "US"
        ],
        [
         "T047",
         "C1002",
         "2023-02-28",
         70.25,
         "clothing",
         "UK"
        ],
        [
         "T048",
         "C1003",
         "2023-03-01",
         340.0,
         "books",
         "US"
        ],
        [
         "T049",
         "C1004",
         "2023-03-02",
         230.0,
         "home appliances",
         "US"
        ],
        [
         "T050",
         "C1005",
         "2023-03-03",
         500.0,
         "electronics",
         "UK"
        ]
       ],
       "datasetInfos": [],
       "dbfsResultPath": null,
       "isJsonSchema": true,
       "metadata": {},
       "overflow": false,
       "plotOptions": {
        "customPlotOptions": {},
        "displayType": "table",
        "pivotAggregation": null,
        "pivotColumns": null,
        "xColumns": null,
        "yColumns": null
       },
       "removedWidgets": [],
       "schema": [
        {
         "metadata": "{}",
         "name": "transaction_id",
         "type": "\"string\""
        },
        {
         "metadata": "{}",
         "name": "customer_id",
         "type": "\"string\""
        },
        {
         "metadata": "{}",
         "name": "transaction_date",
         "type": "\"date\""
        },
        {
         "metadata": "{}",
         "name": "amount",
         "type": "\"double\""
        },
        {
         "metadata": "{}",
         "name": "product_category",
         "type": "\"string\""
        },
        {
         "metadata": "{}",
         "name": "region",
         "type": "\"string\""
        }
       ],
       "type": "table"
      }
     },
     "output_type": "display_data"
    }
   ],
   "source": [
    "silver_df.display()"
   ]
  },
  {
   "cell_type": "code",
   "execution_count": 0,
   "metadata": {
    "application/vnd.databricks.v1+cell": {
     "cellMetadata": {
      "byteLimit": 2048000,
      "rowLimit": 10000
     },
     "inputWidgets": {},
     "nuid": "0ccaa866-fed5-41a5-a6fb-32e1c4641adf",
     "showTitle": false,
     "tableResultSettingsMap": {},
     "title": ""
    }
   },
   "outputs": [
    {
     "output_type": "stream",
     "name": "stdout",
     "output_type": "stream",
     "text": [
      "+-----------+-----------+\n|customer_id|total_spent|\n+-----------+-----------+\n|      C1001|     1033.0|\n|      C1002|      340.8|\n|      C1003|    1621.25|\n|      C1004|      555.0|\n|      C1005|     2330.0|\n|      C1006|     275.49|\n|      C1007|     190.25|\n|      C1008|    2040.25|\n|      C1009|     490.75|\n|      C1010|     509.95|\n+-----------+-----------+\n\n"
     ]
    }
   ],
   "source": [
    "customer_spending = silver_df.groupBy('customer_id').agg(sum('amount').alias('total_spent')).orderBy('customer_id', ascending=True)\n",
    "customer_spending.show()"
   ]
  },
  {
   "cell_type": "code",
   "execution_count": 0,
   "metadata": {
    "application/vnd.databricks.v1+cell": {
     "cellMetadata": {
      "byteLimit": 2048000,
      "rowLimit": 10000
     },
     "inputWidgets": {},
     "nuid": "4ec57091-629a-4a68-8c81-6e0043e33216",
     "showTitle": false,
     "tableResultSettingsMap": {},
     "title": ""
    }
   },
   "outputs": [],
   "source": [
    "customer_orders= silver_df.groupBy('customer_id').agg(count('*').alias('total_orders'),countDistinct('product_category').alias('unique_products'))\n"
   ]
  },
  {
   "cell_type": "code",
   "execution_count": 0,
   "metadata": {
    "application/vnd.databricks.v1+cell": {
     "cellMetadata": {
      "byteLimit": 2048000,
      "rowLimit": 10000
     },
     "inputWidgets": {},
     "nuid": "f67344f7-687b-47ee-9d17-24ba945091c7",
     "showTitle": false,
     "tableResultSettingsMap": {},
     "title": ""
    }
   },
   "outputs": [
    {
     "output_type": "stream",
     "name": "stdout",
     "output_type": "stream",
     "text": [
      "+-----------------------+------------+\n|month(transaction_date)|total_orders|\n+-----------------------+------------+\n|                      1|          19|\n|                      2|          28|\n|                      3|           3|\n+-----------------------+------------+\n\n"
     ]
    }
   ],
   "source": [
    "orders_per_month = silver_df.groupBy(month('transaction_date')).agg(count('*').alias('total_orders')).orderBy('month(transaction_date)')\n",
    "orders_per_month.show()"
   ]
  },
  {
   "cell_type": "code",
   "execution_count": 0,
   "metadata": {
    "application/vnd.databricks.v1+cell": {
     "cellMetadata": {
      "byteLimit": 2048000,
      "rowLimit": 10000
     },
     "inputWidgets": {},
     "nuid": "7491eae2-2945-4f82-a411-1bfdd703aa29",
     "showTitle": false,
     "tableResultSettingsMap": {},
     "title": ""
    }
   },
   "outputs": [
    {
     "output_type": "stream",
     "name": "stdout",
     "output_type": "stream",
     "text": [
      "+-------+------------+\n| region|total_orders|\n+-------+------------+\n|     US|          28|\n|     UK|          18|\n|Unknown|           4|\n+-------+------------+\n\n"
     ]
    }
   ],
   "source": [
    "orders_per_country = silver_df.groupBy('region').agg(count('*').alias('total_orders')).orderBy('total_orders', ascending=False)\n",
    "orders_per_country.show()"
   ]
  },
  {
   "cell_type": "code",
   "execution_count": 0,
   "metadata": {
    "application/vnd.databricks.v1+cell": {
     "cellMetadata": {
      "byteLimit": 2048000,
      "rowLimit": 10000
     },
     "inputWidgets": {},
     "nuid": "9cdfe006-9adc-4dea-85df-9ece4dc4a7f5",
     "showTitle": false,
     "tableResultSettingsMap": {},
     "title": ""
    }
   },
   "outputs": [
    {
     "output_type": "stream",
     "name": "stdout",
     "output_type": "stream",
     "text": [
      "+----------------+------------+\n|product_category|total_orders|\n+----------------+------------+\n|     electronics|          17|\n|        clothing|          14|\n|           books|          12|\n| home appliances|           7|\n+----------------+------------+\n\n"
     ]
    }
   ],
   "source": [
    "orders_per_product = silver_df.groupBy('product_category').agg(count('*').alias('total_orders')).orderBy('total_orders', ascending=False)\n",
    "orders_per_product.show()"
   ]
  },
  {
   "cell_type": "code",
   "execution_count": 0,
   "metadata": {
    "application/vnd.databricks.v1+cell": {
     "cellMetadata": {},
     "inputWidgets": {},
     "nuid": "ae274766-db2f-42da-b7e8-5a630cd57b5d",
     "showTitle": false,
     "tableResultSettingsMap": {},
     "title": ""
    }
   },
   "outputs": [],
   "source": []
  }
 ],
 "metadata": {
  "application/vnd.databricks.v1+notebook": {
   "computePreferences": null,
   "dashboards": [],
   "environmentMetadata": {
    "base_environment": "",
    "environment_version": "2"
   },
   "inputWidgetPreferences": null,
   "language": "python",
   "notebookMetadata": {
    "pythonIndentUnit": 4
   },
   "notebookName": "gold_layer_NB",
   "widgets": {}
  },
  "language_info": {
   "name": "python"
  }
 },
 "nbformat": 4,
 "nbformat_minor": 0
}