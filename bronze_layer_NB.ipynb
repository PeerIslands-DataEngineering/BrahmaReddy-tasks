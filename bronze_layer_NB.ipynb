{
 "cells": [
  {
   "cell_type": "code",
   "execution_count": 0,
   "metadata": {
    "application/vnd.databricks.v1+cell": {
     "cellMetadata": {
      "byteLimit": 2048000,
      "rowLimit": 10000
     },
     "inputWidgets": {},
     "nuid": "09cbd0ff-37ed-4aee-87eb-f969d569dac5",
     "showTitle": false,
     "tableResultSettingsMap": {},
     "title": ""
    }
   },
   "outputs": [],
   "source": [
    "bronze_df = spark.read.csv(\"/Volumes/workspace/default/customer_data/customer_transactions_large.csv\", header=True, inferSchema=True)"
   ]
  },
  {
   "cell_type": "code",
   "execution_count": 0,
   "metadata": {
    "application/vnd.databricks.v1+cell": {
     "cellMetadata": {
      "byteLimit": 2048000,
      "rowLimit": 10000
     },
     "inputWidgets": {},
     "nuid": "ba41aecd-63d7-48ff-a064-de935cfca474",
     "showTitle": false,
     "tableResultSettingsMap": {},
     "title": ""
    }
   },
   "outputs": [
    {
     "output_type": "stream",
     "name": "stdout",
     "output_type": "stream",
     "text": [
      "+--------------+-----------+----------------+------+----------------+------+\n|transaction_id|customer_id|transaction_date|amount|product_category|region|\n+--------------+-----------+----------------+------+----------------+------+\n|          T001|      C1001|      01/15/2023|150.75|     Electronics|    US|\n|          T002|      C1002|      01/16/2023|  NULL|        Clothing|    UK|\n|          T003|      C1001|      01/17/2023| -25.0|     electronics|    US|\n|          T004|      C1003|      01/18/2023| 300.5|           Books|  NULL|\n|          T005|      C1002|      01/18/2023| 75.25|        CLOTHING|    UK|\n+--------------+-----------+----------------+------+----------------+------+\nonly showing top 5 rows\n"
     ]
    },
    {
     "output_type": "execute_result",
     "data": {
      "text/plain": [
       "['transaction_id',\n",
       " 'customer_id',\n",
       " 'transaction_date',\n",
       " 'amount',\n",
       " 'product_category',\n",
       " 'region']"
      ]
     },
     "execution_count": 15,
     "metadata": {},
     "output_type": "execute_result"
    }
   ],
   "source": [
    "bronze_df.show(5)\n",
    "bronze_df.columns"
   ]
  },
  {
   "cell_type": "code",
   "execution_count": 0,
   "metadata": {
    "application/vnd.databricks.v1+cell": {
     "cellMetadata": {
      "byteLimit": 2048000,
      "rowLimit": 10000
     },
     "inputWidgets": {},
     "nuid": "951980b1-8972-49ff-9b80-60f657315ada",
     "showTitle": false,
     "tableResultSettingsMap": {},
     "title": ""
    }
   },
   "outputs": [
    {
     "output_type": "stream",
     "name": "stdout",
     "output_type": "stream",
     "text": [
      "+--------------+-----------+----------------+------+----------------+------+--------------------+\n|transaction_id|customer_id|transaction_date|amount|product_category|region|           timestamp|\n+--------------+-----------+----------------+------+----------------+------+--------------------+\n|          T001|      C1001|      01/15/2023|150.75|     Electronics|    US|2025-07-09 10:05:...|\n|          T002|      C1002|      01/16/2023|  NULL|        Clothing|    UK|2025-07-09 10:05:...|\n|          T003|      C1001|      01/17/2023| -25.0|     electronics|    US|2025-07-09 10:05:...|\n|          T004|      C1003|      01/18/2023| 300.5|           Books|  NULL|2025-07-09 10:05:...|\n|          T005|      C1002|      01/18/2023| 75.25|        CLOTHING|    UK|2025-07-09 10:05:...|\n+--------------+-----------+----------------+------+----------------+------+--------------------+\nonly showing top 5 rows\n"
     ]
    }
   ],
   "source": [
    "from pyspark.sql.functions import *\n",
    "brone_df1 = bronze_df.withColumn('timestamp',current_timestamp())\n",
    "brone_df1.show(5)"
   ]
  },
  {
   "cell_type": "code",
   "execution_count": 0,
   "metadata": {
    "application/vnd.databricks.v1+cell": {
     "cellMetadata": {},
     "inputWidgets": {},
     "nuid": "0134be4d-c3c0-43da-b7e9-b2e2f47425a7",
     "showTitle": false,
     "tableResultSettingsMap": {},
     "title": ""
    }
   },
   "outputs": [],
   "source": []
  },
  {
   "cell_type": "code",
   "execution_count": 0,
   "metadata": {
    "application/vnd.databricks.v1+cell": {
     "cellMetadata": {
      "byteLimit": 2048000,
      "rowLimit": 10000
     },
     "inputWidgets": {},
     "nuid": "2e887065-6132-43e4-ba83-e2f5607b72b6",
     "showTitle": false,
     "tableResultSettingsMap": {},
     "title": ""
    }
   },
   "outputs": [],
   "source": [
    "bronze_df.write.format('delta').mode(\"overwrite\").saveAsTable(\"workspace.default.bronze_table\")"
   ]
  },
  {
   "cell_type": "code",
   "execution_count": 0,
   "metadata": {
    "application/vnd.databricks.v1+cell": {
     "cellMetadata": {
      "byteLimit": 2048000,
      "rowLimit": 10000
     },
     "inputWidgets": {},
     "nuid": "94282c79-7e1c-457b-aefc-89f595e19596",
     "showTitle": false,
     "tableResultSettingsMap": {},
     "title": ""
    }
   },
   "outputs": [
    {
     "output_type": "stream",
     "name": "stdout",
     "output_type": "stream",
     "text": [
      "+--------------+-----------+----------------+------+----------------+------+\n|transaction_id|customer_id|transaction_date|amount|product_category|region|\n+--------------+-----------+----------------+------+----------------+------+\n|          T001|      C1001|      01/15/2023|150.75|     Electronics|    US|\n|          T002|      C1002|      01/16/2023|  NULL|        Clothing|    UK|\n|          T003|      C1001|      01/17/2023| -25.0|     electronics|    US|\n|          T004|      C1003|      01/18/2023| 300.5|           Books|  NULL|\n|          T005|      C1002|      01/18/2023| 75.25|        CLOTHING|    UK|\n|          T006|      C1004|      01/19/2023| 200.0|           Books|    US|\n|          T007|      C1001|      01/15/2023|150.75|     Electronics|    US|\n|          T008|      C1005|      01/20/2023| 450.0| Home Appliances|    US|\n|          T009|      C1006|      01/21/2023| 89.99|     electronics|    UK|\n|          T010|      C1003|      01/22/2023| 120.0|           Books|    US|\n+--------------+-----------+----------------+------+----------------+------+\nonly showing top 10 rows\n"
     ]
    }
   ],
   "source": [
    "spark.read.table(\"workspace.default.bronze_table\").show(10)"
   ]
  }
 ],
 "metadata": {
  "application/vnd.databricks.v1+notebook": {
   "computePreferences": null,
   "dashboards": [],
   "environmentMetadata": {
    "base_environment": "",
    "environment_version": "2"
   },
   "inputWidgetPreferences": null,
   "language": "python",
   "notebookMetadata": {
    "pythonIndentUnit": 4
   },
   "notebookName": "bronze_layer_NB",
   "widgets": {}
  },
  "language_info": {
   "name": "python"
  }
 },
 "nbformat": 4,
 "nbformat_minor": 0
}