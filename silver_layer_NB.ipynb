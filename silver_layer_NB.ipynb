{
 "cells": [
  {
   "cell_type": "code",
   "execution_count": 0,
   "metadata": {
    "application/vnd.databricks.v1+cell": {
     "cellMetadata": {
      "byteLimit": 2048000,
      "rowLimit": 10000
     },
     "inputWidgets": {},
     "nuid": "cbe8cbbb-1108-4030-9984-971654f0e041",
     "showTitle": false,
     "tableResultSettingsMap": {},
     "title": ""
    }
   },
   "outputs": [],
   "source": [
    "bronze_df = spark.read.table(\"workspace.default.bronze_table\")"
   ]
  },
  {
   "cell_type": "code",
   "execution_count": 0,
   "metadata": {
    "application/vnd.databricks.v1+cell": {
     "cellMetadata": {
      "byteLimit": 2048000,
      "rowLimit": 10000
     },
     "inputWidgets": {},
     "nuid": "c8534420-1459-40c5-9cf5-0352e43fd87d",
     "showTitle": false,
     "tableResultSettingsMap": {},
     "title": ""
    }
   },
   "outputs": [
    {
     "output_type": "stream",
     "name": "stdout",
     "output_type": "stream",
     "text": [
      "+--------------+-----------+----------------+------+----------------+------+\n|transaction_id|customer_id|transaction_date|amount|product_category|region|\n+--------------+-----------+----------------+------+----------------+------+\n|          T001|      C1001|      01/15/2023|150.75|     Electronics|    US|\n|          T002|      C1002|      01/16/2023|  NULL|        Clothing|    UK|\n|          T003|      C1001|      01/17/2023| -25.0|     electronics|    US|\n|          T004|      C1003|      01/18/2023| 300.5|           Books|  NULL|\n|          T005|      C1002|      01/18/2023| 75.25|        CLOTHING|    UK|\n|          T006|      C1004|      01/19/2023| 200.0|           Books|    US|\n|          T007|      C1001|      01/15/2023|150.75|     Electronics|    US|\n|          T008|      C1005|      01/20/2023| 450.0| Home Appliances|    US|\n|          T009|      C1006|      01/21/2023| 89.99|     electronics|    UK|\n|          T010|      C1003|      01/22/2023| 120.0|           Books|    US|\n+--------------+-----------+----------------+------+----------------+------+\nonly showing top 10 rows\n"
     ]
    }
   ],
   "source": [
    "bronze_df.show(10)"
   ]
  },
  {
   "cell_type": "code",
   "execution_count": 0,
   "metadata": {
    "application/vnd.databricks.v1+cell": {
     "cellMetadata": {
      "byteLimit": 2048000,
      "rowLimit": 10000
     },
     "inputWidgets": {},
     "nuid": "f8526b39-f8a5-431e-bd71-c1785cc6a179",
     "showTitle": false,
     "tableResultSettingsMap": {},
     "title": ""
    }
   },
   "outputs": [
    {
     "output_type": "stream",
     "name": "stdout",
     "output_type": "stream",
     "text": [
      "root\n |-- transaction_id: string (nullable = true)\n |-- customer_id: string (nullable = true)\n |-- transaction_date: string (nullable = true)\n |-- amount: double (nullable = true)\n |-- product_category: string (nullable = true)\n |-- region: string (nullable = true)\n\n"
     ]
    }
   ],
   "source": [
    "bronze_df.printSchema()"
   ]
  },
  {
   "cell_type": "code",
   "execution_count": 0,
   "metadata": {
    "application/vnd.databricks.v1+cell": {
     "cellMetadata": {
      "byteLimit": 2048000,
      "rowLimit": 10000
     },
     "inputWidgets": {},
     "nuid": "b7d24dd8-9cd1-4dda-9ab3-286b73a8c75f",
     "showTitle": false,
     "tableResultSettingsMap": {},
     "title": ""
    }
   },
   "outputs": [
    {
     "output_type": "stream",
     "name": "stdout",
     "output_type": "stream",
     "text": [
      "+--------------+-----------+----------------+------+----------------+------+-----+\n|transaction_id|customer_id|transaction_date|amount|product_category|region|count|\n+--------------+-----------+----------------+------+----------------+------+-----+\n+--------------+-----------+----------------+------+----------------+------+-----+\n\n"
     ]
    }
   ],
   "source": [
    "from pyspark.sql.functions import *\n",
    "bronze_df.groupBy(bronze_df.columns).agg(count(\"*\").alias(\"count\")).filter(\"count > 1\").show()\n"
   ]
  },
  {
   "cell_type": "code",
   "execution_count": 0,
   "metadata": {
    "application/vnd.databricks.v1+cell": {
     "cellMetadata": {
      "byteLimit": 2048000,
      "rowLimit": 10000
     },
     "inputWidgets": {},
     "nuid": "82ededbf-d556-4b40-9dab-b442d7e3db13",
     "showTitle": false,
     "tableResultSettingsMap": {},
     "title": ""
    }
   },
   "outputs": [],
   "source": [
    "bronze_df = bronze_df.fillna({\"amount\": 0})\n"
   ]
  },
  {
   "cell_type": "code",
   "execution_count": 0,
   "metadata": {
    "application/vnd.databricks.v1+cell": {
     "cellMetadata": {
      "byteLimit": 2048000,
      "rowLimit": 10000
     },
     "inputWidgets": {},
     "nuid": "9f4121b3-fc57-4a93-b9b0-4e7212a8abe9",
     "showTitle": false,
     "tableResultSettingsMap": {},
     "title": ""
    }
   },
   "outputs": [
    {
     "output_type": "execute_result",
     "data": {
      "text/plain": [
       "0"
      ]
     },
     "execution_count": 109,
     "metadata": {},
     "output_type": "execute_result"
    }
   ],
   "source": [
    "bronze_df.filter(col(\"amount\").isNull()).count()"
   ]
  },
  {
   "cell_type": "code",
   "execution_count": 0,
   "metadata": {
    "application/vnd.databricks.v1+cell": {
     "cellMetadata": {
      "byteLimit": 2048000,
      "rowLimit": 10000
     },
     "inputWidgets": {},
     "nuid": "d5f2a0d4-f3d2-4073-8552-6b79a07e9d2a",
     "showTitle": false,
     "tableResultSettingsMap": {},
     "title": ""
    }
   },
   "outputs": [
    {
     "output_type": "stream",
     "name": "stdout",
     "output_type": "stream",
     "text": [
      "root\n |-- transaction_id: string (nullable = true)\n |-- customer_id: string (nullable = true)\n |-- transaction_date: string (nullable = true)\n |-- amount: double (nullable = false)\n |-- product_category: string (nullable = true)\n |-- region: string (nullable = true)\n\n"
     ]
    }
   ],
   "source": [
    "bronze_df.printSchema()"
   ]
  },
  {
   "cell_type": "code",
   "execution_count": 0,
   "metadata": {
    "application/vnd.databricks.v1+cell": {
     "cellMetadata": {
      "byteLimit": 2048000,
      "rowLimit": 10000
     },
     "inputWidgets": {},
     "nuid": "4ccfa990-4c6b-458e-baac-5968cfaf47cf",
     "showTitle": false,
     "tableResultSettingsMap": {},
     "title": ""
    }
   },
   "outputs": [],
   "source": [
    "bronze_df = bronze_df.withColumn(\"amount\", when(col('amount') > 0, col('amount')).otherwise(0))\n",
    "\n"
   ]
  },
  {
   "cell_type": "code",
   "execution_count": 0,
   "metadata": {
    "application/vnd.databricks.v1+cell": {
     "cellMetadata": {
      "byteLimit": 2048000,
      "rowLimit": 10000
     },
     "inputWidgets": {},
     "nuid": "1aea81f0-1e48-4ce5-bc84-e8e72d499b75",
     "showTitle": false,
     "tableResultSettingsMap": {},
     "title": ""
    }
   },
   "outputs": [
    {
     "output_type": "stream",
     "name": "stdout",
     "output_type": "stream",
     "text": [
      "+--------------+-----------+----------------+------+----------------+------+\n|transaction_id|customer_id|transaction_date|amount|product_category|region|\n+--------------+-----------+----------------+------+----------------+------+\n|          T050|      C1005|      03/03/2023| 500.0|     Electronics|    UK|\n|          T049|      C1004|      03/02/2023| 230.0| Home Appliances|    US|\n|          T048|      C1003|      03/01/2023| 340.0|           Books|    US|\n|          T047|      C1002|      02/28/2023| 70.25|        CLOTHING|    UK|\n|          T046|      C1001|      02/27/2023| 190.0|     Electronics|    US|\n|          T045|      C1010|      02/26/2023| 150.0|        Clothing|    US|\n|          T044|      C1009|      02/25/2023|   0.0| Home Appliances|    UK|\n|          T043|      C1008|      02/24/2023| 420.0|           Books|    US|\n|          T042|      C1007|      02/23/2023|  95.0|     electronics|    UK|\n|          T041|      C1006|      02/22/2023| 110.0|        Clothing|    US|\n|          T040|      C1005|      02/21/2023| 380.0|     Electronics|    UK|\n|          T039|      C1004|      02/20/2023|   0.0| Home Appliances|    US|\n|          T038|      C1003|      02/19/2023| 270.0|           Books|  NULL|\n|          T037|      C1002|      02/18/2023|  85.0|        clothing|    UK|\n|          T036|      C1001|      02/17/2023|165.75|     Electronics|    US|\n|          T035|      C1010|      02/16/2023| 210.0|           Books|    US|\n|          T034|      C1009|      02/15/2023| 90.25|        Clothing|    UK|\n|          T033|      C1008|      02/14/2023| 550.0|     Electronics|    US|\n|          T032|      C1007|      02/13/2023|   0.0|           Books|    UK|\n|          T031|      C1006|      02/12/2023|  75.5|        Clothing|    US|\n+--------------+-----------+----------------+------+----------------+------+\nonly showing top 20 rows\n"
     ]
    }
   ],
   "source": [
    "bronze_df = bronze_df.withColumn(\"transaction_date\", regexp_replace(\"transaction_date\", \"-\", \"/\"))\n",
    "bronze_df.orderBy(\"transaction_id\",ascending=False).show()\n"
   ]
  },
  {
   "cell_type": "code",
   "execution_count": 0,
   "metadata": {
    "application/vnd.databricks.v1+cell": {
     "cellMetadata": {
      "byteLimit": 2048000,
      "rowLimit": 10000
     },
     "inputWidgets": {},
     "nuid": "44efed78-3656-4be1-87c8-4cfe761cf1cb",
     "showTitle": false,
     "tableResultSettingsMap": {},
     "title": ""
    }
   },
   "outputs": [],
   "source": [
    "bronze_df = bronze_df.withColumn('transaction_date', to_date(col('transaction_date'), 'MM/dd/yyyy'))"
   ]
  },
  {
   "cell_type": "code",
   "execution_count": 0,
   "metadata": {
    "application/vnd.databricks.v1+cell": {
     "cellMetadata": {
      "byteLimit": 2048000,
      "rowLimit": 10000
     },
     "inputWidgets": {},
     "nuid": "cd505863-7970-4550-9a30-0588f2be8919",
     "showTitle": false,
     "tableResultSettingsMap": {},
     "title": ""
    }
   },
   "outputs": [
    {
     "output_type": "stream",
     "name": "stdout",
     "output_type": "stream",
     "text": [
      "+--------------+-----------+----------------+------+----------------+------+\n|transaction_id|customer_id|transaction_date|amount|product_category|region|\n+--------------+-----------+----------------+------+----------------+------+\n|          T001|      C1001|      2023-01-15|150.75|     Electronics|    US|\n|          T002|      C1002|      2023-01-16|   0.0|        Clothing|    UK|\n|          T003|      C1001|      2023-01-17|   0.0|     electronics|    US|\n|          T004|      C1003|      2023-01-18| 300.5|           Books|  NULL|\n|          T005|      C1002|      2023-01-18| 75.25|        CLOTHING|    UK|\n|          T006|      C1004|      2023-01-19| 200.0|           Books|    US|\n|          T007|      C1001|      2023-01-15|150.75|     Electronics|    US|\n|          T008|      C1005|      2023-01-20| 450.0| Home Appliances|    US|\n|          T009|      C1006|      2023-01-21| 89.99|     electronics|    UK|\n|          T010|      C1003|      2023-01-22| 120.0|           Books|    US|\n|          T011|      C1007|      2023-01-23|   0.0|        Clothing|  NULL|\n|          T012|      C1002|      2023-01-24|  65.3|        clothing|    UK|\n|          T013|      C1008|      2023-01-25|750.25|     Electronics|    US|\n|          T014|      C1004|      2023-01-26|   0.0|           Books|    US|\n|          T015|      C1009|      2023-01-27| 220.0| Home Appliances|    UK|\n|          T016|      C1010|      2023-01-28| 99.95|     Electronics|    US|\n|          T017|      C1001|      2023-01-29| 175.0|     electronics|    US|\n|          T018|      C1002|      2023-01-30|  45.0|        Clothing|    UK|\n|          T019|      C1003|      2023-01-31|280.75|           Books|    US|\n|          T020|      C1005|      2023-02-01| 600.0| Home Appliances|  NULL|\n+--------------+-----------+----------------+------+----------------+------+\nonly showing top 20 rows\n"
     ]
    }
   ],
   "source": [
    "bronze_df.show()\n"
   ]
  },
  {
   "cell_type": "code",
   "execution_count": 0,
   "metadata": {
    "application/vnd.databricks.v1+cell": {
     "cellMetadata": {
      "byteLimit": 2048000,
      "rowLimit": 10000
     },
     "inputWidgets": {},
     "nuid": "f80596ab-cba6-4132-9502-7fb91fc2a12d",
     "showTitle": false,
     "tableResultSettingsMap": {},
     "title": ""
    }
   },
   "outputs": [
    {
     "output_type": "stream",
     "name": "stdout",
     "output_type": "stream",
     "text": [
      "+--------------+-----------+----------------+------+----------------+-------+\n|transaction_id|customer_id|transaction_date|amount|product_category| region|\n+--------------+-----------+----------------+------+----------------+-------+\n|          T001|      C1001|      2023-01-15|150.75|     electronics|     US|\n|          T002|      C1002|      2023-01-16|   0.0|        clothing|     UK|\n|          T003|      C1001|      2023-01-17|   0.0|     electronics|     US|\n|          T004|      C1003|      2023-01-18| 300.5|           books|Unknown|\n|          T005|      C1002|      2023-01-18| 75.25|        clothing|     UK|\n|          T006|      C1004|      2023-01-19| 200.0|           books|     US|\n|          T007|      C1001|      2023-01-15|150.75|     electronics|     US|\n|          T008|      C1005|      2023-01-20| 450.0| home appliances|     US|\n|          T009|      C1006|      2023-01-21| 89.99|     electronics|     UK|\n|          T010|      C1003|      2023-01-22| 120.0|           books|     US|\n|          T011|      C1007|      2023-01-23|   0.0|        clothing|Unknown|\n|          T012|      C1002|      2023-01-24|  65.3|        clothing|     UK|\n|          T013|      C1008|      2023-01-25|750.25|     electronics|     US|\n|          T014|      C1004|      2023-01-26|   0.0|           books|     US|\n|          T015|      C1009|      2023-01-27| 220.0| home appliances|     UK|\n|          T016|      C1010|      2023-01-28| 99.95|     electronics|     US|\n|          T017|      C1001|      2023-01-29| 175.0|     electronics|     US|\n|          T018|      C1002|      2023-01-30|  45.0|        clothing|     UK|\n|          T019|      C1003|      2023-01-31|280.75|           books|     US|\n|          T020|      C1005|      2023-02-01| 600.0| home appliances|Unknown|\n+--------------+-----------+----------------+------+----------------+-------+\nonly showing top 20 rows\n"
     ]
    }
   ],
   "source": [
    "bronze_df = bronze_df.withColumn('product_category', lower(col('product_category')))\n",
    "bronze_df = bronze_df.withColumn('region', when(col('region').isNull(), 'Unknown' ).otherwise(col('region')))\n",
    "bronze_df.show()"
   ]
  },
  {
   "cell_type": "code",
   "execution_count": 0,
   "metadata": {
    "application/vnd.databricks.v1+cell": {
     "cellMetadata": {
      "byteLimit": 2048000,
      "rowLimit": 10000
     },
     "inputWidgets": {},
     "nuid": "28cd321f-f25f-45fe-85de-cd65ba62f054",
     "showTitle": false,
     "tableResultSettingsMap": {},
     "title": ""
    }
   },
   "outputs": [],
   "source": [
    "bronze_df.write.format('delta').mode(\"overwrite\").saveAsTable(\"workspace.default.silver_table\")"
   ]
  },
  {
   "cell_type": "code",
   "execution_count": 0,
   "metadata": {
    "application/vnd.databricks.v1+cell": {
     "cellMetadata": {},
     "inputWidgets": {},
     "nuid": "e8c8bc40-17ce-4063-b453-97c55959236d",
     "showTitle": false,
     "tableResultSettingsMap": {},
     "title": ""
    }
   },
   "outputs": [],
   "source": []
  }
 ],
 "metadata": {
  "application/vnd.databricks.v1+notebook": {
   "computePreferences": null,
   "dashboards": [],
   "environmentMetadata": {
    "base_environment": "",
    "environment_version": "2"
   },
   "inputWidgetPreferences": null,
   "language": "python",
   "notebookMetadata": {
    "pythonIndentUnit": 4
   },
   "notebookName": "silver_layer_NB",
   "widgets": {}
  },
  "language_info": {
   "name": "python"
  }
 },
 "nbformat": 4,
 "nbformat_minor": 0
}