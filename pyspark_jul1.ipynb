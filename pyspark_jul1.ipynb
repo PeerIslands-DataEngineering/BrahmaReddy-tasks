{
  "nbformat": 4,
  "nbformat_minor": 0,
  "metadata": {
    "colab": {
      "provenance": []
    },
    "kernelspec": {
      "name": "python3",
      "display_name": "Python 3"
    },
    "language_info": {
      "name": "python"
    }
  },
  "cells": [
    {
      "cell_type": "code",
      "execution_count": 2,
      "metadata": {
        "id": "gzDvtXjGjNpN"
      },
      "outputs": [],
      "source": [
        "from pyspark import SparkContext\n",
        "sc = SparkContext(\"local\", \"First App\")"
      ]
    },
    {
      "cell_type": "code",
      "source": [
        "data = [(\"Alice\", 80), (\"Bob\", 90), (\"Alice\", 70), (\"Bob\", 85), (\"Charlie\", 60)]\n",
        "rdd = sc.parallelize(data)"
      ],
      "metadata": {
        "id": "dPc45nTIjpr0"
      },
      "execution_count": 3,
      "outputs": []
    },
    {
      "cell_type": "code",
      "source": [
        "rdd.collect()"
      ],
      "metadata": {
        "colab": {
          "base_uri": "https://localhost:8080/"
        },
        "id": "A-wnoo5jj4PH",
        "outputId": "3e3f917f-3bda-4825-b520-8b2940b9ed5a"
      },
      "execution_count": 4,
      "outputs": [
        {
          "output_type": "execute_result",
          "data": {
            "text/plain": [
              "[('Alice', 80), ('Bob', 90), ('Alice', 70), ('Bob', 85), ('Charlie', 60)]"
            ]
          },
          "metadata": {},
          "execution_count": 4
        }
      ]
    },
    {
      "cell_type": "code",
      "source": [
        "rdd1 = rdd.map(lambda x: (x[0], (x[1], 1)))\\\n",
        "        .reduceByKey(lambda x, y: (x[0] + y[0], x[1] + y[1]))\\\n",
        "        .mapValues(lambda x: x[0] / x[1])\n",
        "rdd1.collect()"
      ],
      "metadata": {
        "colab": {
          "base_uri": "https://localhost:8080/"
        },
        "id": "Ah6nACkUj8E4",
        "outputId": "f8b98436-d0cd-48c6-d844-461c4e17e453"
      },
      "execution_count": 7,
      "outputs": [
        {
          "output_type": "execute_result",
          "data": {
            "text/plain": [
              "[('Alice', 75.0), ('Bob', 87.5), ('Charlie', 60.0)]"
            ]
          },
          "metadata": {},
          "execution_count": 7
        }
      ]
    },
    {
      "cell_type": "code",
      "source": [
        "rdd2 = rdd.map(lambda x: (x[0] , (x[1] , 1)))\\\n",
        "        .reduceByKey( lambda x, y : (x[0] + y[0] ,x[1] + y[1]) )\\\n",
        "        .mapValues(lambda x: x[0]/x[1])\n",
        "\n",
        ""
      ],
      "metadata": {
        "id": "bxRpfjaLmuAk"
      },
      "execution_count": 10,
      "outputs": []
    },
    {
      "cell_type": "code",
      "source": [
        "numbers = [5, 3, 4, 5, 2, 3, 5, 3, 4]\n",
        "rdd3 = sc.parallelize(numbers)\n",
        "\n"
      ],
      "metadata": {
        "id": "Zpb-vI1uo-J5"
      },
      "execution_count": 11,
      "outputs": []
    },
    {
      "cell_type": "code",
      "source": [
        "rdd3.map(lambda x: (x,1) ).reduceByKey(lambda a,b: a+b  ).map(lambda x: (x[1],x[0])).sortByKey(False).map(lambda x: (x[1],x[0])).collect()"
      ],
      "metadata": {
        "colab": {
          "base_uri": "https://localhost:8080/"
        },
        "id": "nIiNIBXvpQCJ",
        "outputId": "bf6a56c2-5d8e-4616-9167-c1afae6fbee4"
      },
      "execution_count": 15,
      "outputs": [
        {
          "output_type": "execute_result",
          "data": {
            "text/plain": [
              "[(5, 3), (3, 3), (4, 2), (2, 1)]"
            ]
          },
          "metadata": {},
          "execution_count": 15
        }
      ]
    },
    {
      "cell_type": "code",
      "source": [],
      "metadata": {
        "id": "7JUnF7BIrm0Z"
      },
      "execution_count": null,
      "outputs": []
    }
  ]
}